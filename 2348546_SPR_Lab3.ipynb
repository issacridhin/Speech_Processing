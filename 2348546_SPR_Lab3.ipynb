{
  "cells": [
    {
      "cell_type": "code",
      "execution_count": 1,
      "metadata": {},
      "outputs": [
        {
          "name": "stdout",
          "output_type": "stream",
          "text": [
            "Defaulting to user installation because normal site-packages is not writeableNote: you may need to restart the kernel to use updated packages.\n",
            "\n",
            "Requirement already satisfied: SpeechRecognition in c:\\users\\ridhi\\appdata\\roaming\\python\\python312-32\\site-packages (3.10.4)\n",
            "Requirement already satisfied: requests>=2.26.0 in c:\\users\\ridhi\\appdata\\roaming\\python\\python312-32\\site-packages (from SpeechRecognition) (2.32.3)\n",
            "Requirement already satisfied: typing-extensions in c:\\users\\ridhi\\appdata\\roaming\\python\\python312-32\\site-packages (from SpeechRecognition) (4.12.2)\n",
            "Requirement already satisfied: charset-normalizer<4,>=2 in c:\\users\\ridhi\\appdata\\roaming\\python\\python312-32\\site-packages (from requests>=2.26.0->SpeechRecognition) (3.4.0)\n",
            "Requirement already satisfied: idna<4,>=2.5 in c:\\users\\ridhi\\appdata\\roaming\\python\\python312-32\\site-packages (from requests>=2.26.0->SpeechRecognition) (3.10)\n",
            "Requirement already satisfied: urllib3<3,>=1.21.1 in c:\\users\\ridhi\\appdata\\roaming\\python\\python312-32\\site-packages (from requests>=2.26.0->SpeechRecognition) (2.2.3)\n",
            "Requirement already satisfied: certifi>=2017.4.17 in c:\\users\\ridhi\\appdata\\roaming\\python\\python312-32\\site-packages (from requests>=2.26.0->SpeechRecognition) (2024.8.30)\n"
          ]
        }
      ],
      "source": [
        "pip install SpeechRecognition"
      ]
    },
    {
      "cell_type": "code",
      "execution_count": 3,
      "metadata": {},
      "outputs": [
        {
          "name": "stdout",
          "output_type": "stream",
          "text": [
            "Defaulting to user installation because normal site-packages is not writeable\n",
            "Collecting pyaudio\n",
            "  Downloading PyAudio-0.2.14-cp312-cp312-win32.whl.metadata (2.7 kB)\n",
            "Downloading PyAudio-0.2.14-cp312-cp312-win32.whl (144 kB)\n",
            "Installing collected packages: pyaudio\n",
            "Successfully installed pyaudio-0.2.14\n",
            "Note: you may need to restart the kernel to use updated packages.\n"
          ]
        }
      ],
      "source": [
        "pip install pyaudio"
      ]
    },
    {
      "cell_type": "code",
      "execution_count": 5,
      "metadata": {},
      "outputs": [
        {
          "name": "stdout",
          "output_type": "stream",
          "text": [
            "Defaulting to user installation because normal site-packages is not writeable\n",
            "Collecting setuptools\n",
            "  Downloading setuptools-75.1.0-py3-none-any.whl.metadata (6.9 kB)\n",
            "Downloading setuptools-75.1.0-py3-none-any.whl (1.2 MB)\n",
            "   ---------------------------------------- 0.0/1.2 MB ? eta -:--:--\n",
            "   ------------------------- -------------- 0.8/1.2 MB 4.8 MB/s eta 0:00:01\n",
            "   ---------------------------------------- 1.2/1.2 MB 5.3 MB/s eta 0:00:00\n",
            "Installing collected packages: setuptools\n",
            "Successfully installed setuptools-75.1.0\n",
            "Note: you may need to restart the kernel to use updated packages.\n"
          ]
        }
      ],
      "source": [
        "pip install setuptools"
      ]
    },
    {
      "cell_type": "code",
      "execution_count": 4,
      "metadata": {
        "id": "JwCx3xraFnlU"
      },
      "outputs": [
        {
          "name": "stdout",
          "output_type": "stream",
          "text": [
            "Speak something\n",
            "Listening...\n",
            "Recognizing...\n",
            "Speech Recognition could not understand audio, Please try speaking more clearly.\n"
          ]
        }
      ],
      "source": [
        "import speech_recognition as sr\n",
        "\n",
        "def speech_to_text():\n",
        "    # Initialize recognizer\n",
        "    recognizer = sr.Recognizer()\n",
        "\n",
        "    # Provide initial feedback to the user\n",
        "    print(\"Speak something\")\n",
        "\n",
        "    # Capture speech input from the microphone\n",
        "    with sr.Microphone() as source:\n",
        "        try:\n",
        "            # Adjust for ambient noise\n",
        "            recognizer.adjust_for_ambient_noise(source)\n",
        "            # Start recognizing\n",
        "            print(\"Listening...\")\n",
        "            audio = recognizer.listen(source)\n",
        "\n",
        "            # Provide feedback while recognizing\n",
        "            print(\"Recognizing...\")\n",
        "            # Convert speech to text using Google's speech recognition API\n",
        "            text = recognizer.recognize_google(audio)\n",
        "\n",
        "            # To Provide the feedback\n",
        "            print(f'Speech recognized: \"{text}\"')\n",
        "            print(\"Speech successfully converted to text!\")\n",
        "\n",
        "        except sr.UnknownValueError:\n",
        "            # Handle unclear speech\n",
        "            print(\"Speech Recognition could not understand audio, Please try speaking more clearly.\")\n",
        "        except sr.RequestError:\n",
        "            # Handle failure to connect to recognition service\n",
        "            print(\"Could not request results from the speech recognition service; check your network connection.\")\n",
        "        except Exception as e:\n",
        "            print(f\"An error occurred: {str(e)}\")\n",
        "\n",
        "# Run the function\n",
        "speech_to_text()"
      ]
    },
    {
      "cell_type": "code",
      "execution_count": null,
      "metadata": {
        "id": "2wNOscz6FnlV"
      },
      "outputs": [],
      "source": []
    }
  ],
  "metadata": {
    "colab": {
      "provenance": []
    },
    "kernelspec": {
      "display_name": "Python 3",
      "language": "python",
      "name": "python3"
    },
    "language_info": {
      "codemirror_mode": {
        "name": "ipython",
        "version": 3
      },
      "file_extension": ".py",
      "mimetype": "text/x-python",
      "name": "python",
      "nbconvert_exporter": "python",
      "pygments_lexer": "ipython3",
      "version": "3.12.6"
    }
  },
  "nbformat": 4,
  "nbformat_minor": 0
}
