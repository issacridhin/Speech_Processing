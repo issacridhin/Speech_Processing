{
  "nbformat": 4,
  "nbformat_minor": 0,
  "metadata": {
    "colab": {
      "provenance": [],
      "authorship_tag": "ABX9TyMseEuLw5O+ZWqkcM136RpM",
      "include_colab_link": true
    },
    "kernelspec": {
      "name": "python3",
      "display_name": "Python 3"
    },
    "language_info": {
      "name": "python"
    }
  },
  "cells": [
    {
      "cell_type": "markdown",
      "metadata": {
        "id": "view-in-github",
        "colab_type": "text"
      },
      "source": [
        "<a href=\"https://colab.research.google.com/github/issacridhin/Speech_Processing/blob/main/2348546_Lab7_SPR.ipynb\" target=\"_parent\"><img src=\"https://colab.research.google.com/assets/colab-badge.svg\" alt=\"Open In Colab\"/></a>"
      ]
    },
    {
      "cell_type": "markdown",
      "source": [
        "**Hidden Markov Model (HMM) to simulate phoneme transitions for the word ‘speech’ in speech processing**"
      ],
      "metadata": {
        "id": "wQT5MDe_UywV"
      }
    },
    {
      "cell_type": "code",
      "execution_count": 4,
      "metadata": {
        "colab": {
          "base_uri": "https://localhost:8080/"
        },
        "id": "9Ezz1PEYPLjb",
        "outputId": "badd9430-fdfc-4415-f7bb-abaa8bde823f"
      },
      "outputs": [
        {
          "output_type": "stream",
          "name": "stdout",
          "text": [
            "Initial Probabilities:\n",
            "s: 1.0\n",
            "p: 0.0\n",
            "ie:: 0.0\n",
            "tʃ: 0.0\n",
            "\n",
            "Transition Probabilities:\n",
            "From → To:\n",
            "\t s\tp\tie:\ttʃ\n",
            "s \t 0.1\t0.8\t0.1\t0.0\n",
            "p \t 0.0\t0.1\t0.8\t0.1\n",
            "ie: \t 0.0\t0.0\t0.2\t0.8\n",
            "tʃ \t 0.2\t0.0\t0.0\t0.8\n",
            "\n",
            "Emission Probabilities:\n",
            "Phoneme → Observation:\n",
            "\tEnergy\tPitch\tDuration\n",
            "s \t 0.7\t0.2\t0.1\n",
            "p \t 0.5\t0.3\t0.2\n",
            "ie: \t 0.3\t0.5\t0.2\n",
            "tʃ \t 0.4\t0.4\t0.2\n",
            "\n",
            "Generated Phoneme Sequence: ['s', 'p', 'ie:', 'tʃ']\n",
            "Generated Observation Sequence: ['Pitch', 'Energy', 'Duration', 'Pitch']\n"
          ]
        }
      ],
      "source": [
        "import numpy as np\n",
        "import random\n",
        "\n",
        "# (a) Representing the HMM parameters\n",
        "initial_probabilities = {\"s\": 1.0, \"p\": 0.0, \"ie:\": 0.0, \"tʃ\": 0.0}\n",
        "\n",
        "transition_probabilities = {\n",
        "    \"s\": {\"s\": 0.1, \"p\": 0.8, \"ie:\": 0.1, \"tʃ\": 0.0},\n",
        "    \"p\": {\"s\": 0.0, \"p\": 0.1, \"ie:\": 0.8, \"tʃ\": 0.1},\n",
        "    \"ie:\": {\"s\": 0.0, \"p\": 0.0, \"ie:\": 0.2, \"tʃ\": 0.8},\n",
        "    \"tʃ\": {\"s\": 0.2, \"p\": 0.0, \"ie:\": 0.0, \"tʃ\": 0.8},\n",
        "}\n",
        "\n",
        "emission_probabilities = {\n",
        "    \"s\": {\"Energy\": 0.7, \"Pitch\": 0.2, \"Duration\": 0.1},\n",
        "    \"p\": {\"Energy\": 0.5, \"Pitch\": 0.3, \"Duration\": 0.2},\n",
        "    \"ie:\": {\"Energy\": 0.3, \"Pitch\": 0.5, \"Duration\": 0.2},\n",
        "    \"tʃ\": {\"Energy\": 0.4, \"Pitch\": 0.4, \"Duration\": 0.2},\n",
        "}\n",
        "\n",
        "# (b) Displaying the transition and emission matrices\n",
        "def display_matrices():\n",
        "    print(\"Initial Probabilities:\")\n",
        "    for phoneme, prob in initial_probabilities.items():\n",
        "        print(f\"{phoneme}: {prob}\")\n",
        "    print(\"\\nTransition Probabilities:\")\n",
        "    print(\"From → To:\")\n",
        "    print(\"\\t\", \"\\t\".join(transition_probabilities.keys()))\n",
        "    for from_state, transitions in transition_probabilities.items():\n",
        "        print(from_state, \"\\t\", \"\\t\".join(str(transitions[to_state]) for to_state in transitions))\n",
        "    print(\"\\nEmission Probabilities:\")\n",
        "    print(\"Phoneme → Observation:\")\n",
        "    print(\"\\tEnergy\\tPitch\\tDuration\")\n",
        "    for phoneme, emissions in emission_probabilities.items():\n",
        "        print(phoneme, \"\\t\", \"\\t\".join(str(emissions[obs]) for obs in emissions))\n",
        "\n",
        "# (c) Generating a phoneme sequence and observations\n",
        "def generate_sequence(num_steps=4):\n",
        "    phoneme_sequence = []\n",
        "    observation_sequence = []\n",
        "\n",
        "    # To Start with the initial state\n",
        "    current_state = random.choices(\n",
        "        list(initial_probabilities.keys()), weights=list(initial_probabilities.values())\n",
        "    )[0]\n",
        "    phoneme_sequence.append(current_state)\n",
        "\n",
        "    # Generate sequence\n",
        "    for _ in range(num_steps - 1):\n",
        "        # Transition to the next state\n",
        "        next_state = random.choices(\n",
        "            list(transition_probabilities[current_state].keys()),\n",
        "            weights=list(transition_probabilities[current_state].values()),\n",
        "        )[0]\n",
        "        phoneme_sequence.append(next_state)\n",
        "        current_state = next_state\n",
        "\n",
        "    # Generate observations based on the phoneme sequence\n",
        "    for phoneme in phoneme_sequence:\n",
        "        observation = random.choices(\n",
        "            list(emission_probabilities[phoneme].keys()),\n",
        "            weights=list(emission_probabilities[phoneme].values()),\n",
        "        )[0]\n",
        "        observation_sequence.append(observation)\n",
        "\n",
        "    return phoneme_sequence, observation_sequence\n",
        "\n",
        "# Main program\n",
        "display_matrices()\n",
        "phoneme_sequence, observation_sequence = generate_sequence()\n",
        "\n",
        "print(\"\\nGenerated Phoneme Sequence:\", phoneme_sequence)\n",
        "print(\"Generated Observation Sequence:\", observation_sequence)\n"
      ]
    },
    {
      "cell_type": "markdown",
      "source": [
        "#Inference"
      ],
      "metadata": {
        "id": "zRCfYyWbT_bp"
      }
    },
    {
      "cell_type": "markdown",
      "source": [
        "1. Phoneme Transition: The generated phoneme sequence ( ['s', 'p', 'ie:', 'tS']) shows how the model transitions between states based on the defined probabilities. The transitions align with the most probable paths in the transition matrix.\n",
        "\n",
        "2. Observation Generation: The sequence of acoustic observations ( ['Pitch', 'Energy', 'Duration', 'Pitch']) reflects the emission probabilities corresponding to each phoneme.\n",
        "\n",
        "3. Practical Application: This implementation simulates the process of phoneme transitions and associated acoustic observations, demonstrating how HMMs can model speech patterns. Such simulations are foundational in speech recognition and synthesis tasks."
      ],
      "metadata": {
        "id": "BHmvPPGBUA5R"
      }
    },
    {
      "cell_type": "code",
      "source": [],
      "metadata": {
        "id": "l-NCIEp5T5Hi"
      },
      "execution_count": null,
      "outputs": []
    }
  ]
}